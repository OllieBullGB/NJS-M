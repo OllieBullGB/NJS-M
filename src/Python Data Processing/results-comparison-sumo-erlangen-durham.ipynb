{
 "cells": [
  {
   "cell_type": "code",
   "execution_count": 1,
   "metadata": {},
   "outputs": [
    {
     "name": "stdout",
     "output_type": "stream",
     "text": [
      "Note: you may need to restart the kernel to use updated packages.\n",
      "Note: you may need to restart the kernel to use updated packages.\n"
     ]
    }
   ],
   "source": [
    "%pip install pandas --quiet\n",
    "%pip install matplotlib --quiet"
   ]
  },
  {
   "cell_type": "code",
   "execution_count": 2,
   "metadata": {},
   "outputs": [],
   "source": [
    "import pandas as pd\n",
    "import matplotlib.pyplot as plt"
   ]
  },
  {
   "cell_type": "code",
   "execution_count": 3,
   "metadata": {},
   "outputs": [],
   "source": [
    "simulation_params = {\n",
    "    'test-runs': 5,\n",
    "    'num-hosts': 20,\n",
    "    'num-rsu': 1,\n",
    "    'num-jammer': 1\n",
    "}"
   ]
  },
  {
   "cell_type": "code",
   "execution_count": 4,
   "metadata": {},
   "outputs": [
    {
     "name": "stdout",
     "output_type": "stream",
     "text": [
      "5\n"
     ]
    },
    {
     "data": {
      "text/html": [
       "<div>\n",
       "<style scoped>\n",
       "    .dataframe tbody tr th:only-of-type {\n",
       "        vertical-align: middle;\n",
       "    }\n",
       "\n",
       "    .dataframe tbody tr th {\n",
       "        vertical-align: top;\n",
       "    }\n",
       "\n",
       "    .dataframe thead th {\n",
       "        text-align: right;\n",
       "    }\n",
       "</style>\n",
       "<table border=\"1\" class=\"dataframe\">\n",
       "  <thead>\n",
       "    <tr style=\"text-align: right;\">\n",
       "      <th></th>\n",
       "      <th>runName</th>\n",
       "      <th>time</th>\n",
       "      <th>JLE</th>\n",
       "      <th>tp</th>\n",
       "      <th>fp</th>\n",
       "      <th>tn</th>\n",
       "      <th>fn</th>\n",
       "      <th>accuracy</th>\n",
       "      <th>ttfd</th>\n",
       "      <th>vSpeed</th>\n",
       "      <th>jammerType</th>\n",
       "      <th>Solution</th>\n",
       "      <th>validReportsProcessed</th>\n",
       "    </tr>\n",
       "  </thead>\n",
       "  <tbody>\n",
       "    <tr>\n",
       "      <th>0</th>\n",
       "      <td>1879422756</td>\n",
       "      <td>4.0</td>\n",
       "      <td>85.86081</td>\n",
       "      <td>1</td>\n",
       "      <td>0</td>\n",
       "      <td>3</td>\n",
       "      <td>0</td>\n",
       "      <td>100.0</td>\n",
       "      <td>4.0</td>\n",
       "      <td>NaN</td>\n",
       "      <td>Durham,UK</td>\n",
       "      <td>NJS</td>\n",
       "      <td>NaN</td>\n",
       "    </tr>\n",
       "    <tr>\n",
       "      <th>1</th>\n",
       "      <td>1879422756</td>\n",
       "      <td>6.0</td>\n",
       "      <td>85.86081</td>\n",
       "      <td>1</td>\n",
       "      <td>0</td>\n",
       "      <td>5</td>\n",
       "      <td>0</td>\n",
       "      <td>100.0</td>\n",
       "      <td>4.0</td>\n",
       "      <td>NaN</td>\n",
       "      <td>Durham,UK</td>\n",
       "      <td>NJS</td>\n",
       "      <td>NaN</td>\n",
       "    </tr>\n",
       "    <tr>\n",
       "      <th>2</th>\n",
       "      <td>1879422756</td>\n",
       "      <td>8.0</td>\n",
       "      <td>85.86081</td>\n",
       "      <td>1</td>\n",
       "      <td>0</td>\n",
       "      <td>7</td>\n",
       "      <td>0</td>\n",
       "      <td>100.0</td>\n",
       "      <td>4.0</td>\n",
       "      <td>NaN</td>\n",
       "      <td>Durham,UK</td>\n",
       "      <td>NJS</td>\n",
       "      <td>NaN</td>\n",
       "    </tr>\n",
       "    <tr>\n",
       "      <th>3</th>\n",
       "      <td>1879422756</td>\n",
       "      <td>10.0</td>\n",
       "      <td>89.25990</td>\n",
       "      <td>2</td>\n",
       "      <td>0</td>\n",
       "      <td>8</td>\n",
       "      <td>0</td>\n",
       "      <td>100.0</td>\n",
       "      <td>4.0</td>\n",
       "      <td>NaN</td>\n",
       "      <td>Durham,UK</td>\n",
       "      <td>NJS</td>\n",
       "      <td>NaN</td>\n",
       "    </tr>\n",
       "    <tr>\n",
       "      <th>4</th>\n",
       "      <td>1879422756</td>\n",
       "      <td>12.0</td>\n",
       "      <td>89.25990</td>\n",
       "      <td>2</td>\n",
       "      <td>0</td>\n",
       "      <td>10</td>\n",
       "      <td>0</td>\n",
       "      <td>100.0</td>\n",
       "      <td>4.0</td>\n",
       "      <td>NaN</td>\n",
       "      <td>Durham,UK</td>\n",
       "      <td>NJS</td>\n",
       "      <td>NaN</td>\n",
       "    </tr>\n",
       "  </tbody>\n",
       "</table>\n",
       "</div>"
      ],
      "text/plain": [
       "      runName  time       JLE  tp  fp  tn  fn  accuracy  ttfd  vSpeed  \\\n",
       "0  1879422756   4.0  85.86081   1   0   3   0     100.0   4.0     NaN   \n",
       "1  1879422756   6.0  85.86081   1   0   5   0     100.0   4.0     NaN   \n",
       "2  1879422756   8.0  85.86081   1   0   7   0     100.0   4.0     NaN   \n",
       "3  1879422756  10.0  89.25990   2   0   8   0     100.0   4.0     NaN   \n",
       "4  1879422756  12.0  89.25990   2   0  10   0     100.0   4.0     NaN   \n",
       "\n",
       "  jammerType Solution  validReportsProcessed  \n",
       "0  Durham,UK      NJS                    NaN  \n",
       "1  Durham,UK      NJS                    NaN  \n",
       "2  Durham,UK      NJS                    NaN  \n",
       "3  Durham,UK      NJS                    NaN  \n",
       "4  Durham,UK      NJS                    NaN  "
      ]
     },
     "execution_count": 4,
     "metadata": {},
     "output_type": "execute_result"
    }
   ],
   "source": [
    "# Load and prepare function for all result files\n",
    "def load_and_prepare(path, solution, jammer_type):\n",
    "    df = pd.read_csv(path)\n",
    "    df['accuracy'] = ((df['tp'] + df['tn']) / (df['tp'] + df['fp'] + df['tn'] + df['fn'])) * 100\n",
    "    df['jammerType'] = jammer_type\n",
    "    df['Solution'] = solution\n",
    "    return df\n",
    "\n",
    "# Load Durham, UK (static) results\n",
    "NJS = load_and_prepare('./sumo_static/legacyResults.txt', 'NJS', 'Durham,UK')\n",
    "NJS_M = load_and_prepare('./sumo_static/results.txt', 'NJS-M', 'Durham,UK')\n",
    "T_SNR = load_and_prepare('./sumo_static/snrResults.txt', 'T-SNR', 'Durham,UK')\n",
    "ML_SNR = load_and_prepare('./sumo_static/snrMLResults.txt', 'ML SNR', 'Durham,UK')\n",
    "\n",
    "# Load Erlangen, DE (proactive) results\n",
    "NJS_pro = load_and_prepare('./sumo_static/proactiveLegacyResults.txt', 'NJS', 'Erlangen,DE')\n",
    "NJS_M_pro = load_and_prepare('./sumo_static/proactiveResults.txt', 'NJS-M', 'Erlangen,DE')\n",
    "T_SNR_pro = load_and_prepare('./sumo_static/proactiveSnrResults.txt', 'T-SNR', 'Erlangen,DE')\n",
    "ML_SNR_pro = load_and_prepare('./sumo_static/proactiveSnrMLResults.txt', 'ML SNR', 'Erlangen,DE')\n",
    "\n",
    "# Combine all dataframes\n",
    "df_combined = pd.concat([\n",
    "    NJS, NJS_M, T_SNR, ML_SNR,\n",
    "    NJS_pro, NJS_M_pro, T_SNR_pro, ML_SNR_pro\n",
    "])\n",
    "\n",
    "num_runs = df_combined['runName'].nunique()\n",
    "print(num_runs)\n",
    "df_combined.head()\n",
    "\n"
   ]
  },
  {
   "cell_type": "code",
   "execution_count": 5,
   "metadata": {},
   "outputs": [
    {
     "name": "stdout",
     "output_type": "stream",
     "text": [
      "Average JLE for Jammer Type 'Durham,UK':\n",
      "  ML SNR: 67.11658728813559\n",
      "  NJS: 144.6589466101695\n",
      "  NJS-M: 68.25400593220338\n",
      "  T-SNR: 1111.1820379661017\n",
      "Average JLE for Jammer Type 'Erlangen,DE':\n",
      "  ML SNR: 230.10350932203391\n",
      "  NJS: 144.6589466101695\n",
      "  NJS-M: 41.17049118644067\n",
      "  T-SNR: 411.7952245762712\n"
     ]
    },
    {
     "data": {
      "image/png": "[encoded data removed]",
      "text/plain": [
       "<Figure size 600x300 with 1 Axes>"
      ]
     },
     "metadata": {},
     "output_type": "display_data"
    }
   ],
   "source": [
    "# Group by runName, time, Solution, and jammerType, and compute the mean JLE\n",
    "df_grouped = df_combined.groupby(['runName', 'time', 'Solution', 'jammerType']).mean().reset_index()\n",
    "\n",
    "# Pivot the dataframe for easier plotting\n",
    "df_pivot = df_grouped.pivot_table(values='JLE', index='time', columns=['Solution', 'jammerType'], aggfunc='mean')\n",
    "\n",
    "plt.figure(figsize=(6, 3))\n",
    "bar_width = 0.2\n",
    "solutions = list(df_pivot.columns.levels[0])\n",
    "jammer_types = list(df_pivot.columns.levels[1])\n",
    "index = range(len(solutions))\n",
    "\n",
    "# Define custom colors (extend if needed)\n",
    "colors = ['blue', 'gold', 'green', 'red']\n",
    "\n",
    "# Plot bars for each jammer type\n",
    "for i, jammerType in enumerate(jammer_types):\n",
    "    means = [df_pivot[(solution, jammerType)].mean() if (solution, jammerType) in df_pivot.columns else 0 for solution in solutions]\n",
    "    plt.bar([x + i * bar_width for x in index], means, bar_width, label=jammerType, color=colors[i % len(colors)])\n",
    "    print(f\"Average JLE for Jammer Type '{jammerType}':\")\n",
    "    for solution, mean_val in zip(solutions, means):\n",
    "        print(f\"  {solution}: {mean_val}\")\n",
    "\n",
    "plt.xlabel('Solution')\n",
    "plt.ylabel('Average JLE (m)')\n",
    "plt.xticks([x + bar_width * (len(jammer_types)-1)/2 for x in index], solutions)\n",
    "plt.grid(True, axis='y')\n",
    "plt.legend(title='Jammer Type')\n",
    "plt.show()"
   ]
  },
  {
   "cell_type": "code",
   "execution_count": 6,
   "metadata": {},
   "outputs": [
    {
     "name": "stdout",
     "output_type": "stream",
     "text": [
      "Average ACC for Jammer Type 'Durham,UK':\n",
      "Solution\n",
      "ML SNR    36.105292\n",
      "NJS       96.015639\n",
      "NJS-M     99.742724\n",
      "T-SNR     10.414271\n",
      "dtype: float64\n",
      "Average ACC for Jammer Type 'Erlangen,DE':\n",
      "Solution\n",
      "ML SNR    64.109008\n",
      "NJS       96.015639\n",
      "NJS-M     99.482396\n",
      "T-SNR     12.643337\n",
      "dtype: float64\n"
     ]
    },
    {
     "data": {
      "image/png": "[encoded data removed]",
      "text/plain": [
       "<Figure size 600x300 with 1 Axes>"
      ]
     },
     "metadata": {},
     "output_type": "display_data"
    }
   ],
   "source": [
    "# Group by runName, time, Solution, and jammerType, and compute the mean accuracy\n",
    "df_grouped = df_combined.groupby(['runName', 'time', 'Solution', 'jammerType']).mean().reset_index()\n",
    "\n",
    "# Pivot the dataframe for easier plotting\n",
    "df_pivot = df_grouped.pivot_table(values='accuracy', index='time', columns=['Solution', 'jammerType'], aggfunc='mean')\n",
    "\n",
    "# Plot the bar chart using df_pivot\n",
    "plt.figure(figsize=(6, 3))\n",
    "bar_width = 0.35\n",
    "index = range(len(df_pivot.columns.levels[0]))\n",
    "\n",
    "# Define custom colors\n",
    "colors = ['blue', 'gold']  # Add as many colors as you need\n",
    "\n",
    "# Plot bars for each jammer type\n",
    "for i, jammerType in enumerate(df_pivot.columns.levels[1]):\n",
    "    subset = df_pivot.xs(jammerType, level=1, axis=1)\n",
    "    plt.bar([x + i * bar_width for x in index], subset.mean(), bar_width, label=jammerType, color=colors[i])\n",
    "    \n",
    "    avg_ACC = subset.mean()\n",
    "    \n",
    "    # Print the average JLE for each jammer type and solution\n",
    "    print(f\"Average ACC for Jammer Type '{jammerType}':\")\n",
    "    print(avg_ACC)\n",
    "\n",
    "# Add labels and title\n",
    "plt.xlabel('Solution')\n",
    "plt.ylabel('Average Accuracy (%)')\n",
    "plt.xticks([x + bar_width for x in index], df_pivot.columns.levels[0])\n",
    "plt.grid(True, axis='y')\n",
    "plt.legend(title='Jammer Type')\n",
    "\n",
    "# Show the plot\n",
    "plt.show()"
   ]
  },
  {
   "cell_type": "code",
   "execution_count": null,
   "metadata": {},
   "outputs": [],
   "source": []
  }
 ],
 "metadata": {
  "kernelspec": {
   "display_name": "deeplearning",
   "language": "python",
   "name": "deeplearning"
  },
  "language_info": {
   "codemirror_mode": {
    "name": "ipython",
    "version": 3
   },
   "file_extension": ".py",
   "mimetype": "text/x-python",
   "name": "python",
   "nbconvert_exporter": "python",
   "pygments_lexer": "ipython3",
   "version": "3.9.21"
  }
 },
 "nbformat": 4,
 "nbformat_minor": 4
}
